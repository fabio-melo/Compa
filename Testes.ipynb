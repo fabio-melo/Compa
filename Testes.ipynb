{
 "cells": [
  {
   "cell_type": "code",
   "execution_count": 1,
   "metadata": {
    "ExecuteTime": {
     "end_time": "2018-10-21T02:17:04.428835Z",
     "start_time": "2018-10-21T02:17:03.673269Z"
    }
   },
   "outputs": [
    {
     "name": "stdout",
     "output_type": "stream",
     "text": [
      "Dicionário Carregado - numero de palavras: 1773520, numero de entradas: 323398\n"
     ]
    }
   ],
   "source": [
    "from factory import CompaFactory\n",
    "\n",
    "compa = CompaFactory()"
   ]
  },
  {
   "cell_type": "code",
   "execution_count": 4,
   "metadata": {
    "ExecuteTime": {
     "end_time": "2018-10-21T02:17:43.588771Z",
     "start_time": "2018-10-21T02:17:38.281911Z"
    }
   },
   "outputs": [],
   "source": [
    "_, b = compa.execute(\"aquelos maravilhosos professores gostam muito de utilizar sistemas bonitos\")"
   ]
  },
  {
   "cell_type": "code",
   "execution_count": 5,
   "metadata": {
    "ExecuteTime": {
     "end_time": "2018-10-21T02:17:51.523914Z",
     "start_time": "2018-10-21T02:17:51.516923Z"
    }
   },
   "outputs": [
    {
     "name": "stdout",
     "output_type": "stream",
     "text": [
      "[NOMINAL [aqueles [pronoun MASC plural] 1 0, maravilhosos [adjective MASC plural] 1 1, professores [noun MASC plural] 1 2], VERBAL [gostam [verb FEMI plural] 1 3, muito [pronoun MASC singular, adverb MASC singular] 1 4], VERBAL [utilizar [verb INDF singular] 1 6], NOMINAL [sistemas [noun FEMI plural] 1 7, bonitos [adjective MASC plural, noun MASC plural] 1 8]]\n"
     ]
    }
   ],
   "source": [
    "from parsing.stackparser import StackParser\n",
    "\n",
    "StackParser(b).build()"
   ]
  },
  {
   "cell_type": "code",
   "execution_count": 6,
   "metadata": {
    "ExecuteTime": {
     "end_time": "2018-10-21T02:18:29.606858Z",
     "start_time": "2018-10-21T02:18:29.599882Z"
    }
   },
   "outputs": [
    {
     "name": "stdout",
     "output_type": "stream",
     "text": [
      "[aqueles [pronoun MASC plural] 1 0, maravilhosos [adjective MASC plural] 1 1, professores [noun MASC plural] 1 2, gostam [verb FEMI plural] 1 3, muito [pronoun MASC singular, adverb MASC singular] 1 4, de [preposition MASC singular] 1 5, utilizar [verb INDF singular] 1 6, sistemas [noun FEMI plural] 1 7, bonitos [adjective MASC plural, noun MASC plural] 1 8]\n"
     ]
    }
   ],
   "source": [
    "print(b)"
   ]
  }
 ],
 "metadata": {
  "kernelspec": {
   "display_name": "Python 3",
   "language": "python",
   "name": "python3"
  },
  "language_info": {
   "codemirror_mode": {
    "name": "ipython",
    "version": 3
   },
   "file_extension": ".py",
   "mimetype": "text/x-python",
   "name": "python",
   "nbconvert_exporter": "python",
   "pygments_lexer": "ipython3",
   "version": "3.7.0"
  },
  "varInspector": {
   "cols": {
    "lenName": 16,
    "lenType": 16,
    "lenVar": 40
   },
   "kernels_config": {
    "python": {
     "delete_cmd_postfix": "",
     "delete_cmd_prefix": "del ",
     "library": "var_list.py",
     "varRefreshCmd": "print(var_dic_list())"
    },
    "r": {
     "delete_cmd_postfix": ") ",
     "delete_cmd_prefix": "rm(",
     "library": "var_list.r",
     "varRefreshCmd": "cat(var_dic_list()) "
    }
   },
   "types_to_exclude": [
    "module",
    "function",
    "builtin_function_or_method",
    "instance",
    "_Feature"
   ],
   "window_display": false
  }
 },
 "nbformat": 4,
 "nbformat_minor": 2
}
