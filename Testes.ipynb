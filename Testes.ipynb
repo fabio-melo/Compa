{
 "cells": [
  {
   "cell_type": "code",
   "execution_count": 1,
   "metadata": {
    "ExecuteTime": {
     "end_time": "2018-10-21T12:49:37.073500Z",
     "start_time": "2018-10-21T12:49:36.267963Z"
    },
    "scrolled": true
   },
   "outputs": [
    {
     "name": "stdout",
     "output_type": "stream",
     "text": [
      "Dicionário Carregado - numero de palavras: 1773520, numero de entradas: 323398\n"
     ]
    }
   ],
   "source": [
    "from factory import CompaFactory\n",
    "from parsing.stackparser import StackParser\n",
    "\n",
    "compa = CompaFactory()"
   ]
  },
  {
   "cell_type": "code",
   "execution_count": 2,
   "metadata": {
    "ExecuteTime": {
     "end_time": "2018-10-21T12:49:40.459775Z",
     "start_time": "2018-10-21T12:49:37.080500Z"
    }
   },
   "outputs": [
    {
     "name": "stdout",
     "output_type": "stream",
     "text": [
      "[(0) eu [pronoun/INDF/singular/primeira], (1) não [adverb/MASC/singular/DESC], (2) gosto [verb/MASC/singular/primeira], (4) de [preposition/INDF/INDF/], (5) maçã [noun/FEMI/singular/DESC], (6) verde [adjective/FEMI/singular/DESC, noun/MASC/singular/DESC], (7) , [PUNCTUATION/NONE/NONE/DESC], (8) eu [pronoun/INDF/singular/primeira], (10) acho [verb/MASC/singular/primeira], (11) um [pronoun/MASC/singular/], (12) neologismo [noun/MASC/singular/DESC], (13) genial [adjective/FEMI/singular/DESC]]\n",
      "REPETI\n",
      "[(3) gosto TEMP, (9) eu TEMP]\n"
     ]
    }
   ],
   "source": [
    "spelling, repetition, stack = compa.execute(\"eu não gosto gosto de maçã verde, eu eu acho um neologismo genial\")"
   ]
  },
  {
   "cell_type": "code",
   "execution_count": null,
   "metadata": {},
   "outputs": [],
   "source": []
  }
 ],
 "metadata": {
  "kernelspec": {
   "display_name": "Python 3",
   "language": "python",
   "name": "python3"
  },
  "language_info": {
   "codemirror_mode": {
    "name": "ipython",
    "version": 3
   },
   "file_extension": ".py",
   "mimetype": "text/x-python",
   "name": "python",
   "nbconvert_exporter": "python",
   "pygments_lexer": "ipython3",
   "version": "3.7.0"
  },
  "varInspector": {
   "cols": {
    "lenName": 16,
    "lenType": 16,
    "lenVar": 40
   },
   "kernels_config": {
    "python": {
     "delete_cmd_postfix": "",
     "delete_cmd_prefix": "del ",
     "library": "var_list.py",
     "varRefreshCmd": "print(var_dic_list())"
    },
    "r": {
     "delete_cmd_postfix": ") ",
     "delete_cmd_prefix": "rm(",
     "library": "var_list.r",
     "varRefreshCmd": "cat(var_dic_list()) "
    }
   },
   "types_to_exclude": [
    "module",
    "function",
    "builtin_function_or_method",
    "instance",
    "_Feature"
   ],
   "window_display": false
  }
 },
 "nbformat": 4,
 "nbformat_minor": 2
}
