{
 "cells": [
  {
   "cell_type": "code",
   "execution_count": 2,
   "metadata": {
    "ExecuteTime": {
     "end_time": "2018-10-20T23:19:12.545311Z",
     "start_time": "2018-10-20T23:19:12.150889Z"
    }
   },
   "outputs": [
    {
     "name": "stdout",
     "output_type": "stream",
     "text": [
      "Dicionário Carregado - numero de palavras: 1773520, numero de entradas: 323398\n"
     ]
    }
   ],
   "source": [
    "from factory import CompaFactory\n",
    "\n",
    "compa = CompaFactory()"
   ]
  },
  {
   "cell_type": "code",
   "execution_count": 4,
   "metadata": {
    "ExecuteTime": {
     "end_time": "2018-10-20T23:20:56.242434Z",
     "start_time": "2018-10-20T23:20:51.472788Z"
    }
   },
   "outputs": [
    {
     "data": {
      "text/plain": [
       "([['simpremo', 'supremo'], ['trebunal', 'tribunal'], ['fidoral', 'federal']],\n",
       " [supremo [['adjective', 'MASC']] 1 0,\n",
       "  tribunal [['noun', 'MASC']] 1 1,\n",
       "  federal [['adjective', 'FEMI']] 1 2])"
      ]
     },
     "execution_count": 4,
     "metadata": {},
     "output_type": "execute_result"
    }
   ],
   "source": [
    "compa.execute(\"simpremo trebunal fidoral\")"
   ]
  },
  {
   "cell_type": "code",
   "execution_count": null,
   "metadata": {
    "ExecuteTime": {
     "end_time": "2018-10-20T22:50:22.538975Z",
     "start_time": "2018-10-20T22:50:22.516992Z"
    }
   },
   "outputs": [],
   "source": [
    "dc.autocorrect(c)"
   ]
  },
  {
   "cell_type": "code",
   "execution_count": null,
   "metadata": {
    "ExecuteTime": {
     "end_time": "2018-10-20T22:43:28.589604Z",
     "start_time": "2018-10-20T22:43:28.582607Z"
    }
   },
   "outputs": [],
   "source": [
    "for x in c:\n",
    "    print(x.symbol)"
   ]
  }
 ],
 "metadata": {
  "kernelspec": {
   "display_name": "Python 3",
   "language": "python",
   "name": "python3"
  },
  "language_info": {
   "codemirror_mode": {
    "name": "ipython",
    "version": 3
   },
   "file_extension": ".py",
   "mimetype": "text/x-python",
   "name": "python",
   "nbconvert_exporter": "python",
   "pygments_lexer": "ipython3",
   "version": "3.7.0"
  },
  "varInspector": {
   "cols": {
    "lenName": 16,
    "lenType": 16,
    "lenVar": 40
   },
   "kernels_config": {
    "python": {
     "delete_cmd_postfix": "",
     "delete_cmd_prefix": "del ",
     "library": "var_list.py",
     "varRefreshCmd": "print(var_dic_list())"
    },
    "r": {
     "delete_cmd_postfix": ") ",
     "delete_cmd_prefix": "rm(",
     "library": "var_list.r",
     "varRefreshCmd": "cat(var_dic_list()) "
    }
   },
   "types_to_exclude": [
    "module",
    "function",
    "builtin_function_or_method",
    "instance",
    "_Feature"
   ],
   "window_display": false
  }
 },
 "nbformat": 4,
 "nbformat_minor": 2
}
