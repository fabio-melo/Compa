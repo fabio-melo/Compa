{
 "cells": [
  {
   "cell_type": "code",
   "execution_count": 1,
   "metadata": {
    "ExecuteTime": {
     "end_time": "2018-10-20T23:57:00.866203Z",
     "start_time": "2018-10-20T23:57:00.321499Z"
    }
   },
   "outputs": [
    {
     "name": "stdout",
     "output_type": "stream",
     "text": [
      "Dicionário Carregado - numero de palavras: 1773520, numero de entradas: 323398\n"
     ]
    }
   ],
   "source": [
    "from factory import CompaFactory\n",
    "\n",
    "compa = CompaFactory()"
   ]
  },
  {
   "cell_type": "code",
   "execution_count": 2,
   "metadata": {
    "ExecuteTime": {
     "end_time": "2018-10-20T23:57:06.952126Z",
     "start_time": "2018-10-20T23:57:02.036515Z"
    }
   },
   "outputs": [],
   "source": [
    "_, b = compa.execute(\"aquela maravilhosa professora não gostou do cara pintado\")"
   ]
  },
  {
   "cell_type": "code",
   "execution_count": 3,
   "metadata": {
    "ExecuteTime": {
     "end_time": "2018-10-20T23:57:07.682508Z",
     "start_time": "2018-10-20T23:57:07.649527Z"
    }
   },
   "outputs": [
    {
     "name": "stdout",
     "output_type": "stream",
     "text": [
      "[aquela [['pronoun', 'INDF']] 1 0, maravilhosa [['adjective', 'INDF']] 1 1, professora [['noun', 'FEMI']] 1 2, não [['adverb', 'INDF'], ['interjection', 'INDF'], ['noun', 'MASC']] 1 3, 'STOPPER', 'STOPPER', cara [['noun', 'FEMI'], ['noun', 'MASC'], ['adjective', 'INDF']] 1 6, 'STOPPER']\n"
     ]
    }
   ],
   "source": [
    "from parsing.stackparser import StackParser\n",
    "\n",
    "StackParser(b).build()"
   ]
  },
  {
   "cell_type": "code",
   "execution_count": null,
   "metadata": {
    "ExecuteTime": {
     "end_time": "2018-10-20T22:43:28.589604Z",
     "start_time": "2018-10-20T22:43:28.582607Z"
    }
   },
   "outputs": [],
   "source": [
    "for x in c:\n",
    "    print(x.symbol)"
   ]
  }
 ],
 "metadata": {
  "kernelspec": {
   "display_name": "Python 3",
   "language": "python",
   "name": "python3"
  },
  "language_info": {
   "codemirror_mode": {
    "name": "ipython",
    "version": 3
   },
   "file_extension": ".py",
   "mimetype": "text/x-python",
   "name": "python",
   "nbconvert_exporter": "python",
   "pygments_lexer": "ipython3",
   "version": "3.7.0"
  },
  "varInspector": {
   "cols": {
    "lenName": 16,
    "lenType": 16,
    "lenVar": 40
   },
   "kernels_config": {
    "python": {
     "delete_cmd_postfix": "",
     "delete_cmd_prefix": "del ",
     "library": "var_list.py",
     "varRefreshCmd": "print(var_dic_list())"
    },
    "r": {
     "delete_cmd_postfix": ") ",
     "delete_cmd_prefix": "rm(",
     "library": "var_list.r",
     "varRefreshCmd": "cat(var_dic_list()) "
    }
   },
   "types_to_exclude": [
    "module",
    "function",
    "builtin_function_or_method",
    "instance",
    "_Feature"
   ],
   "window_display": false
  }
 },
 "nbformat": 4,
 "nbformat_minor": 2
}
